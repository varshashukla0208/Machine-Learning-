{
 "cells": [
  {
   "cell_type": "code",
   "execution_count": 14,
   "id": "ff6e058d-0a20-46d6-a55c-b12b6c3e9cd0",
   "metadata": {},
   "outputs": [
    {
     "name": "stdin",
     "output_type": "stream",
     "text": [
      "enter the n:  4\n"
     ]
    },
    {
     "name": "stdout",
     "output_type": "stream",
     "text": [
      " * \n",
      " *  * \n",
      " *  *  * \n",
      " *  *  *  * \n"
     ]
    }
   ],
   "source": [
    "# for loop\n",
    "\n",
    "# Pattern\n",
    "\n",
    "\"\"\"\n",
    "* \n",
    "**\n",
    "***\n",
    "****\n",
    "\"\"\"\n",
    "n = int(input(\"enter the n: \"))\n",
    "for i in range(1,n + 1):\n",
    "    print(\" * \" * i)   "
   ]
  },
  {
   "cell_type": "code",
   "execution_count": 13,
   "id": "4898a9d4-151f-4e0a-b56f-94678d7f6c7e",
   "metadata": {},
   "outputs": [
    {
     "name": "stdin",
     "output_type": "stream",
     "text": [
      "enter the n:  4\n"
     ]
    },
    {
     "name": "stdout",
     "output_type": "stream",
     "text": [
      "* * * * * \n",
      "* * * * * \n",
      "* * * * * \n",
      "* * * * * \n"
     ]
    }
   ],
   "source": [
    "\"\"\" \n",
    "* * * * * \n",
    "* * * * * \n",
    "* * * * * \n",
    "* * * * * \n",
    "* * * * * \n",
    "\n",
    "\"\"\"\n",
    "n = int(input(\"enter the n: \"))\n",
    "for i in range(1, n+1):\n",
    "    for j in range(n+1):\n",
    "        print(\"*\", end=\" \")\n",
    "    print()    "
   ]
  },
  {
   "cell_type": "markdown",
   "id": "92d53fec-7da5-4699-8e46-e254d63fd155",
   "metadata": {},
   "source": [
    "### List "
   ]
  },
  {
   "cell_type": "markdown",
   "id": "ca7d3b60-6a32-443e-acf5-e78758d883a6",
   "metadata": {},
   "source": [
    "#List is a data strucure used to store data.\n"
   ]
  },
  {
   "cell_type": "code",
   "execution_count": 17,
   "id": "a48cd62a-89b0-4170-ae6f-2cded5f5d148",
   "metadata": {},
   "outputs": [
    {
     "name": "stdout",
     "output_type": "stream",
     "text": [
      "[]\n",
      "[]\n"
     ]
    }
   ],
   "source": [
    "friends_age = [25, 27,23,20]\n",
    "# indexing     0    1  2  3"
   ]
  },
  {
   "cell_type": "markdown",
   "id": "54d1416b-0222-4301-a9b8-fcd7df590ea2",
   "metadata": {},
   "source": [
    "#### Empty List"
   ]
  },
  {
   "cell_type": "code",
   "execution_count": 11,
   "id": "5e73cd39-f9ea-491f-94ad-643937cd00e6",
   "metadata": {},
   "outputs": [
    {
     "name": "stdout",
     "output_type": "stream",
     "text": [
      "[]\n",
      "[]\n"
     ]
    }
   ],
   "source": [
    "emp_lst = []\n",
    "empty_lst2 = list()\n",
    "\n",
    "print(emp_lst)\n",
    "print(empty_lst2)"
   ]
  },
  {
   "cell_type": "code",
   "execution_count": 13,
   "id": "6221f642-e731-470a-8834-a2076eccd7f3",
   "metadata": {},
   "outputs": [
    {
     "name": "stdout",
     "output_type": "stream",
     "text": [
      "['apples', 'grapes', 'oranges']\n",
      "[1, 2, 'Apple', [3, 2, 5, 8]]\n"
     ]
    }
   ],
   "source": [
    "fruits = [\"apples\", \"grapes\", \"oranges\"]\n",
    "print(fruits)\n",
    "\n",
    "mixed_list = [1,2, \"Apple\", [3,2,5,8]]\n",
    "print(mixed_list)"
   ]
  },
  {
   "cell_type": "markdown",
   "id": "b28c59e5-06ff-4a51-99e9-4921de73d455",
   "metadata": {},
   "source": [
    "### Adding item - append()"
   ]
  },
  {
   "cell_type": "code",
   "execution_count": 15,
   "id": "67dae969-ba7d-492e-bd9f-8b589e62c1a2",
   "metadata": {},
   "outputs": [],
   "source": [
    "fruits.append(\"cherry\")"
   ]
  },
  {
   "cell_type": "code",
   "execution_count": 14,
   "id": "dd2300a5-abd5-4107-a023-61ca8142a897",
   "metadata": {},
   "outputs": [
    {
     "data": {
      "text/plain": [
       "['apples', 'grapes', 'oranges']"
      ]
     },
     "execution_count": 14,
     "metadata": {},
     "output_type": "execute_result"
    }
   ],
   "source": [
    "fruits"
   ]
  },
  {
   "cell_type": "markdown",
   "id": "373f3e8f-2f22-464a-9aff-c43a6b4da1c0",
   "metadata": {},
   "source": [
    "#### Adding multuiple iteams in list - extend()"
   ]
  },
  {
   "cell_type": "code",
   "execution_count": 16,
   "id": "4dc23490-0ece-4104-b400-753a9cf8facf",
   "metadata": {},
   "outputs": [],
   "source": [
    "fruits.extend(['kiwi', \"guava\"])"
   ]
  },
  {
   "cell_type": "code",
   "execution_count": 29,
   "id": "94d9bf2b-cf7f-458d-9c82-c4ad79bcc91a",
   "metadata": {},
   "outputs": [],
   "source": [
    "fruites.remove(\"cherry\")"
   ]
  },
  {
   "cell_type": "code",
   "execution_count": 17,
   "id": "dd20097d-93ad-4c93-9d7c-a90111802e75",
   "metadata": {},
   "outputs": [
    {
     "data": {
      "text/plain": [
       "['apples', 'grapes', 'oranges', 'cherry', 'kiwi', 'guava']"
      ]
     },
     "execution_count": 17,
     "metadata": {},
     "output_type": "execute_result"
    }
   ],
   "source": [
    "fruits"
   ]
  },
  {
   "cell_type": "markdown",
   "id": "36cc77c5-d8d7-44f5-9e1a-5668ec2d7c7f",
   "metadata": {},
   "source": [
    "#### Adding iteam to a specific location - insert()"
   ]
  },
  {
   "cell_type": "code",
   "execution_count": 22,
   "id": "cee4cc0b-de89-439f-b6d9-b06968fdbd47",
   "metadata": {},
   "outputs": [
    {
     "name": "stdout",
     "output_type": "stream",
     "text": [
      "['apples', 'mango', 'mango', 'mango', 'grapes', 'oranges', 'cherry', 'kiwi', 'guava']\n"
     ]
    }
   ],
   "source": [
    "fruits.insert(1, 'mango')\n",
    "print(fruits)"
   ]
  },
  {
   "cell_type": "markdown",
   "id": "fa116ed5-48e0-4a39-9468-08dd3603c1f2",
   "metadata": {},
   "source": [
    "### removing a value from listg -- remove()"
   ]
  },
  {
   "cell_type": "markdown",
   "id": "cc4597ce-2e71-427a-95fb-035949f39633",
   "metadata": {},
   "source": [
    "#### remove and return item -- pop()"
   ]
  },
  {
   "cell_type": "code",
   "execution_count": 23,
   "id": "378b5bc8-f3f3-4af3-adc1-8d899e02e126",
   "metadata": {},
   "outputs": [
    {
     "data": {
      "text/plain": [
       "'guava'"
      ]
     },
     "execution_count": 23,
     "metadata": {},
     "output_type": "execute_result"
    }
   ],
   "source": [
    "### It will remove the blast value from the list\n",
    "\n",
    "fruits.pop()"
   ]
  },
  {
   "cell_type": "markdown",
   "id": "4bfb3bac-b13c-41cc-b0fd-b94346ce2339",
   "metadata": {},
   "source": [
    "#### removing from the specific location -- using pop()"
   ]
  },
  {
   "cell_type": "code",
   "execution_count": 24,
   "id": "6f3b56d2-789d-4f8a-a853-af481ca979f5",
   "metadata": {},
   "outputs": [
    {
     "data": {
      "text/plain": [
       "'apples'"
      ]
     },
     "execution_count": 24,
     "metadata": {},
     "output_type": "execute_result"
    }
   ],
   "source": [
    "fruits.pop(0)"
   ]
  },
  {
   "cell_type": "markdown",
   "id": "101ff382-bd6b-438f-b58c-a403821124e6",
   "metadata": {},
   "source": [
    "#### Calculate length of the list -- len()"
   ]
  },
  {
   "cell_type": "code",
   "execution_count": 25,
   "id": "530203f2-2a86-4281-aa92-b1eacb933f57",
   "metadata": {},
   "outputs": [
    {
     "name": "stdout",
     "output_type": "stream",
     "text": [
      "7\n"
     ]
    }
   ],
   "source": [
    "print(len(fruits))"
   ]
  },
  {
   "cell_type": "code",
   "execution_count": 26,
   "id": "b7f95cec-fea3-453e-9485-14bfa6672620",
   "metadata": {},
   "outputs": [
    {
     "name": "stdout",
     "output_type": "stream",
     "text": [
      "Spiderman tom holland\n",
      "Superman robery downey\n",
      "ironman henry cavil\n"
     ]
    }
   ],
   "source": [
    "movies = ['Spiderman', 'Superman', 'ironman']\n",
    "actors = ['tom holland', 'robery downey', 'henry cavil']\n",
    "\n",
    "for i in range(len(movies)):\n",
    "    print(movies[i], actors[i])"
   ]
  },
  {
   "cell_type": "markdown",
   "id": "eec6a732-23f0-49bd-956e-20bc7a5a48c4",
   "metadata": {},
   "source": [
    "### Tuple:"
   ]
  },
  {
   "cell_type": "markdown",
   "id": "d9bb0d07-5977-4b5d-86fc-45108bb21fec",
   "metadata": {},
   "source": [
    "#### Tuples used for: bank data, DOB, Aadhar ID.\n",
    "#### A tuple is a collection of data.\n",
    "#### It's immutable.\n",
    "#### Immutable- once created you can not manipulate it. (can not delete or replace values.)\n"
   ]
  },
  {
   "cell_type": "markdown",
   "id": "5ac14245-1f06-4aa5-b9c8-4a9f4db1e5bd",
   "metadata": {},
   "source": [
    "#### Empty Tuple:\n"
   ]
  },
  {
   "cell_type": "code",
   "execution_count": 31,
   "id": "96642b3c-49a2-4191-a23b-0310c6ee04f7",
   "metadata": {},
   "outputs": [
    {
     "name": "stdout",
     "output_type": "stream",
     "text": [
      "() ()\n"
     ]
    }
   ],
   "source": [
    "empty_tuple = ()\n",
    "emt_tuple = tuple()\n",
    "\n",
    "print(emty_tuple, emt_tuple)"
   ]
  },
  {
   "cell_type": "markdown",
   "id": "d4092dcb-d14b-43c8-a38f-ff63586ecd4b",
   "metadata": {},
   "source": [
    "#### Tuple with Values\n"
   ]
  },
  {
   "cell_type": "code",
   "execution_count": 28,
   "id": "7acc1920-ce5d-4cfc-b319-27d1445d5e76",
   "metadata": {},
   "outputs": [
    {
     "name": "stdout",
     "output_type": "stream",
     "text": [
      "(10, 20)\n",
      "('red', 'Blue', 'Orange')\n",
      "('hello', 1, 3.14, True)\n",
      "(42,)\n"
     ]
    }
   ],
   "source": [
    "coordinates = (10, 20)\n",
    "colors = ('red', 'Blue', 'Orange')\n",
    "mixed_tuple = ('hello', 1, 3.14, True)\n",
    "single_iteam = (42, )\n",
    "\n",
    "print(coordinates)\n",
    "print(colors)\n",
    "print(mixed_tuple)\n",
    "print(single_iteam)"
   ]
  },
  {
   "cell_type": "markdown",
   "id": "515f3eef-f735-4194-96ca-8979a1bf399d",
   "metadata": {},
   "source": [
    "#### Tuple Unpacking"
   ]
  },
  {
   "cell_type": "code",
   "execution_count": 30,
   "id": "69494293-5f6e-4ec7-8fae-949b229705f9",
   "metadata": {},
   "outputs": [
    {
     "name": "stdout",
     "output_type": "stream",
     "text": [
      "15 25\n"
     ]
    }
   ],
   "source": [
    "points = (15, 25 )\n",
    "x, y = points\n",
    "print(x, y)"
   ]
  },
  {
   "cell_type": "code",
   "execution_count": 36,
   "id": "73c8863b-6cb5-4665-a228-1c02bee8dd4e",
   "metadata": {},
   "outputs": [
    {
     "name": "stdout",
     "output_type": "stream",
     "text": [
      "Original list [1, 4, 9, 5]\n",
      "Updated list [1, 20, 9, 5]\n",
      "(1, 3, 5, 6, 9)\n"
     ]
    }
   ],
   "source": [
    "## List\n",
    "my_list = [1, 4, 9,5]\n",
    "print(\"Original list\", my_list)\n",
    "my_list[1] = 20\n",
    "print(\"Updated list\",my_list )\n",
    "\n",
    "### Tuple\n",
    "\n",
    "my_tuple = (1, 3, 5, 6, 9)\n",
    "# my_tuple[1] = 20\n",
    "print(my_tuple)\n"
   ]
  },
  {
   "cell_type": "markdown",
   "id": "f81976fc-b378-4fb0-815f-9cc632b6048e",
   "metadata": {},
   "source": [
    "#### Merging two tuple to create new tuple"
   ]
  },
  {
   "cell_type": "code",
   "execution_count": 39,
   "id": "288a1ac8-af87-4de2-a9c4-39fcfd5f1099",
   "metadata": {},
   "outputs": [
    {
     "name": "stdout",
     "output_type": "stream",
     "text": [
      "(1, 2, 3, 4, 5, 6)\n"
     ]
    }
   ],
   "source": [
    "t1 = (1, 2, 3)\n",
    "t2 = (4, 5, 6)\n",
    "\n",
    "t3 = t1 + t2\n",
    "print(t3)"
   ]
  },
  {
   "cell_type": "markdown",
   "id": "57b2fa8a-2902-4fef-a101-f5edc7d72644",
   "metadata": {},
   "source": [
    "#### Slicing\n",
    "##### Its a process that allows bus to extract a part of a list, tuple and string."
   ]
  },
  {
   "cell_type": "code",
   "execution_count": 51,
   "id": "bfebd43e-2593-48f8-a491-56dc37b56163",
   "metadata": {},
   "outputs": [
    {
     "name": "stdout",
     "output_type": "stream",
     "text": [
      "[2, 3, 4, 5]\n",
      "Hel\n",
      "First 3 numbers:  [0, 1, 2]\n",
      "4th number onwards [4, 5, 6, 7, 8, 9]\n",
      "Last 3 numbers:  [7, 8, 9]\n",
      "All except last 2:  [0, 1, 2, 3, 4, 5, 6, 7]\n",
      "every 2nd number:  [0, 2, 4, 6, 8]\n"
     ]
    }
   ],
   "source": [
    "number = [0,1,2,3,4,5,6,7,8,9]\n",
    "text = \"Hello\"\n",
    "\n",
    "print(number[2:6])\n",
    "print(text[0:3])\n",
    "print(\"First 3 numbers: \",number[:3])\n",
    "print(\"4th number onwards\",number[4:])\n",
    "print(\"Last 3 numbers: \", number[-3:])\n",
    "print(\"All except last 2: \", number[:-2])\n",
    "print(\"every 2nd number: \", number[: : 2])\n"
   ]
  },
  {
   "cell_type": "markdown",
   "id": "c43396dd-0830-44dc-a0e2-e97a480b37fd",
   "metadata": {},
   "source": [
    "### Function\n",
    "##### -A function is a reusable block of code that performs a specific task.\n",
    "##### - It makes our code simple and manageable."
   ]
  },
  {
   "cell_type": "code",
   "execution_count": 64,
   "id": "6f97ac4a-fb5c-4050-9976-74dc59f33903",
   "metadata": {},
   "outputs": [
    {
     "name": "stdout",
     "output_type": "stream",
     "text": [
      "150\n",
      "350\n"
     ]
    }
   ],
   "source": [
    "def sum(a, b):\n",
    "    sum = a + b\n",
    "    print(sum)\n",
    "def diff(a,b):\n",
    "    diff = b - a\n",
    "    print(diff)\n",
    "    \n",
    "sum(100,50)    \n",
    "diff(150, 500)"
   ]
  },
  {
   "cell_type": "markdown",
   "id": "25e48d3d-91ae-4296-b335-ebd6abafe087",
   "metadata": {},
   "source": [
    "#### Import statement"
   ]
  },
  {
   "cell_type": "code",
   "execution_count": 76,
   "id": "b016ed27-0e7d-4efa-b370-7d5869eb3a66",
   "metadata": {},
   "outputs": [
    {
     "name": "stdout",
     "output_type": "stream",
     "text": [
      "squareroot of 16:  {4.0}\n",
      "2 to the power 8:  {256.0}\n",
      "Random number between (1 to 100):   {30}\n",
      "Current date and time: 2025-08-06 17:18:57.898744 \n"
     ]
    }
   ],
   "source": [
    "import math\n",
    "import random\n",
    "import datetime\n",
    "import numpy\n",
    "\n",
    "print(f\"squareroot of 16: \", {math.sqrt(16)})\n",
    "print(f\"2 to the power 8: \",{math.pow(2,8)})\n",
    "\n",
    "print(f\"Random number between (1 to 100):  \",{random.randint(1, 100)})\n",
    "\n",
    "now = datetime.datetime.now()\n",
    "print(f\"Current date and time: {now} \")"
   ]
  },
  {
   "cell_type": "markdown",
   "id": "ba59f138-e667-4bc3-9a52-baedfbabbb7a",
   "metadata": {},
   "source": [
    "#### Numpy - Numerical Python\n",
    "\n",
    "##### - used for numerical computation of large data\n",
    "##### - Linear algebr, Maths operation"
   ]
  },
  {
   "cell_type": "code",
   "execution_count": 80,
   "id": "5915168c-6726-4df1-85df-b53076cdb96f",
   "metadata": {},
   "outputs": [
    {
     "name": "stdout",
     "output_type": "stream",
     "text": [
      "[1 2 3 4 5]\n"
     ]
    }
   ],
   "source": [
    " import numpy as np\n",
    "\n",
    "## Array list of numbers\n",
    "\n",
    "arr = np.array([1,2,3,4,5])\n",
    "print(arr)"
   ]
  },
  {
   "cell_type": "code",
   "execution_count": 7,
   "id": "8053d824-dcce-48a9-87e5-52b698832e82",
   "metadata": {},
   "outputs": [
    {
     "name": "stdin",
     "output_type": "stream",
     "text": [
      "Enter the range for numbers:  5\n",
      "Enter the number for list: 1 1\n",
      "Enter the number for list: 2 2\n",
      "Enter the number for list: 3 3\n",
      "Enter the number for list: 4 4\n",
      "Enter the number for list: 5 5\n"
     ]
    },
    {
     "name": "stdout",
     "output_type": "stream",
     "text": [
      "Original List:  [1, 2, 3, 4, 5]\n",
      "Reversed list:  [5, 4, 3, 2, 1]\n"
     ]
    }
   ],
   "source": [
    "n = int(input(\"Enter the range for numbers: \"))\n",
    "\n",
    "numbers = []\n",
    "\n",
    "for i in range(n):\n",
    "  num = int(input(f\"Enter the number for list: {i+1}\"))\n",
    "  numbers.append(num)\n",
    "print(\"Original List: \", numbers)\n",
    "print(\"Reversed list: \",numbers[: :-1])\n",
    "\n"
   ]
  },
  {
   "cell_type": "code",
   "execution_count": null,
   "id": "e50bb539-5d42-41ea-92dd-bc3d74b40739",
   "metadata": {},
   "outputs": [],
   "source": []
  }
 ],
 "metadata": {
  "kernelspec": {
   "display_name": "Python 3 (ipykernel)",
   "language": "python",
   "name": "python3"
  },
  "language_info": {
   "codemirror_mode": {
    "name": "ipython",
    "version": 3
   },
   "file_extension": ".py",
   "mimetype": "text/x-python",
   "name": "python",
   "nbconvert_exporter": "python",
   "pygments_lexer": "ipython3",
   "version": "3.12.7"
  }
 },
 "nbformat": 4,
 "nbformat_minor": 5
}
