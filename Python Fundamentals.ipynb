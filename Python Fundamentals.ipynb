{
 "cells": [
  {
   "cell_type": "code",
   "execution_count": 1,
   "id": "efa2b44c-a885-451a-9260-442a90041222",
   "metadata": {},
   "outputs": [],
   "source": [
    "# This is comment"
   ]
  },
  {
   "cell_type": "markdown",
   "id": "fbb208e9-378e-4864-bc1d-961bb4bffd36",
   "metadata": {},
   "source": [
    "# This is Markdown : shortcut esc+m"
   ]
  },
  {
   "cell_type": "code",
   "execution_count": 14,
   "id": "4a848380-d321-412d-aaf4-42565342cf56",
   "metadata": {},
   "outputs": [],
   "source": [
    "# There is 6 types of markdown or heading as html."
   ]
  },
  {
   "cell_type": "markdown",
   "id": "5dd57b68-c2b0-468b-893e-899b5cf1a947",
   "metadata": {},
   "source": [
    "\"\"\" single # --> h1\n",
    ".\n",
    ".\n",
    ".\n",
    ".\n",
    "###### --> h6 \"\"\"\n"
   ]
  },
  {
   "cell_type": "markdown",
   "id": "03e31ab2-9f9f-443c-b5b9-566ba5001720",
   "metadata": {},
   "source": [
    "# Markdowns is used to make any comment line as a heading in Python."
   ]
  },
  {
   "cell_type": "markdown",
   "id": "72ba7a33-f0dc-4733-9248-2693a18a3689",
   "metadata": {},
   "source": [
    "# Operators "
   ]
  },
  {
   "cell_type": "markdown",
   "id": "3f37c833-ab7b-4310-b873-693d346110fb",
   "metadata": {},
   "source": [
    "### Arithmatic Operators"
   ]
  },
  {
   "cell_type": "code",
   "execution_count": 2,
   "id": "498eb463-a12a-4ca3-9e84-3a0a37db2e0f",
   "metadata": {},
   "outputs": [
    {
     "data": {
      "text/plain": [
       "2.6666666666666665"
      ]
     },
     "execution_count": 2,
     "metadata": {},
     "output_type": "execute_result"
    }
   ],
   "source": [
    "8/3 # Normal division . It returns decimal number."
   ]
  },
  {
   "cell_type": "code",
   "execution_count": null,
   "id": "b137b622-e076-4a3a-97f5-c6b55bd0f400",
   "metadata": {},
   "outputs": [],
   "source": []
  },
  {
   "cell_type": "code",
   "execution_count": 1,
   "id": "e3df0bc3-cda3-4e91-a14a-2fc781c931fb",
   "metadata": {},
   "outputs": [
    {
     "data": {
      "text/plain": [
       "2"
      ]
     },
     "execution_count": 1,
     "metadata": {},
     "output_type": "execute_result"
    }
   ],
   "source": [
    "8 // 3 # Floor division .Non decimal number"
   ]
  },
  {
   "cell_type": "code",
   "execution_count": 3,
   "id": "0f37d31c-596f-47bb-9dcb-c1fb70bd66e0",
   "metadata": {},
   "outputs": [
    {
     "data": {
      "text/plain": [
       "-3"
      ]
     },
     "execution_count": 3,
     "metadata": {},
     "output_type": "execute_result"
    }
   ],
   "source": [
    "-5//2"
   ]
  },
  {
   "cell_type": "markdown",
   "id": "b049b004-1699-4dc8-a0a9-fca822a75f34",
   "metadata": {},
   "source": [
    "# Logical Operators:"
   ]
  },
  {
   "cell_type": "markdown",
   "id": "c3170202-2ed4-4c42-b2d7-98038e74de20",
   "metadata": {},
   "source": [
    "There is a university which makes sure that students will be admitted under certain criteria."
   ]
  },
  {
   "cell_type": "code",
   "execution_count": 7,
   "id": "9671048a-d00c-49c6-9b6c-782b71036aa4",
   "metadata": {},
   "outputs": [
    {
     "name": "stdin",
     "output_type": "stream",
     "text": [
      "Enter the physics marks:  75\n",
      "Enter the chemistry marks:  65\n",
      "Enter the maths marks:  55\n"
     ]
    }
   ],
   "source": [
    "phsics_marks = int(input(\"Enter the physics marks: \"))\n",
    "chemistry_marks = int(input(\"Enter the chemistry marks: \"))\n",
    "maths_marks = int(input(\"Enter the maths marks: \"))"
   ]
  },
  {
   "cell_type": "code",
   "execution_count": 11,
   "id": "39e1a07d-9997-4927-bacb-ba8d5d58085e",
   "metadata": {},
   "outputs": [
    {
     "data": {
      "text/plain": [
       "True"
      ]
     },
     "execution_count": 11,
     "metadata": {},
     "output_type": "execute_result"
    }
   ],
   "source": [
    "(phsics_marks > 80) or (chemistry_marks >60 ) or (maths_marks > 75)"
   ]
  },
  {
   "cell_type": "markdown",
   "id": "43895004-4bab-4c42-8132-19e4de57c824",
   "metadata": {},
   "source": [
    "## Formated String"
   ]
  },
  {
   "cell_type": "code",
   "execution_count": 12,
   "id": "71525c0a-adec-4977-abbf-219848f2803e",
   "metadata": {},
   "outputs": [],
   "source": [
    "# It will take the age and name input from user and print the statements."
   ]
  },
  {
   "cell_type": "code",
   "execution_count": 13,
   "id": "644f5922-ef87-4f4c-a816-cf45fd566434",
   "metadata": {},
   "outputs": [
    {
     "name": "stdin",
     "output_type": "stream",
     "text": [
      "Enter the age:  24\n",
      "Enter the name:  Varsha\n"
     ]
    },
    {
     "name": "stdout",
     "output_type": "stream",
     "text": [
      "The age of Varsha is 24\n",
      "\n"
     ]
    }
   ],
   "source": [
    "age_input = int(input(\"Enter the age: \"))\n",
    "name_input = input(\"Enter the name: \")\n",
    "print(f\"The age of {name_input} is {age_input}\")\n",
    "print()"
   ]
  },
  {
   "cell_type": "code",
   "execution_count": null,
   "id": "c5d16627-cc3f-4055-a8eb-8c78282a8818",
   "metadata": {},
   "outputs": [],
   "source": []
  }
 ],
 "metadata": {
  "kernelspec": {
   "display_name": "Python 3 (ipykernel)",
   "language": "python",
   "name": "python3"
  },
  "language_info": {
   "codemirror_mode": {
    "name": "ipython",
    "version": 3
   },
   "file_extension": ".py",
   "mimetype": "text/x-python",
   "name": "python",
   "nbconvert_exporter": "python",
   "pygments_lexer": "ipython3",
   "version": "3.12.7"
  }
 },
 "nbformat": 4,
 "nbformat_minor": 5
}
