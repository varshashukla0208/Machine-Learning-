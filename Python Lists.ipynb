{
 "cells": [
  {
   "cell_type": "code",
   "execution_count": 2,
   "id": "3d94777d-e340-41cc-ba12-e466b3aacc1a",
   "metadata": {},
   "outputs": [],
   "source": []
  },
  {
   "cell_type": "markdown",
   "id": "88bcfc97-f595-4f35-ac59-8e64b6a68d58",
   "metadata": {},
   "source": [
    "# Shortcut 1: . + tab : --> see the Dropdown of methods available for that object."
   ]
  },
  {
   "cell_type": "markdown",
   "id": "5802ee0c-98cc-4ae2-b45b-9ac89cabfd61",
   "metadata": {},
   "source": [
    "# Shortcut 2: sift + tab: --> To see the details of the method."
   ]
  },
  {
   "cell_type": "code",
   "execution_count": 21,
   "id": "e44a0421-136a-4db4-bd30-a143d4007ad4",
   "metadata": {},
   "outputs": [],
   "source": [
    "ages = [56, 89, 23, 45]"
   ]
  },
  {
   "cell_type": "code",
   "execution_count": 22,
   "id": "7007aa86-2683-4b3f-a159-04169ace74f0",
   "metadata": {},
   "outputs": [],
   "source": [
    "age_copy = ages.copy()"
   ]
  },
  {
   "cell_type": "code",
   "execution_count": 12,
   "id": "ec3b613b-c2b7-433b-ab3a-c76630cb9b23",
   "metadata": {},
   "outputs": [
    {
     "data": {
      "text/plain": [
       "[56, 89, 23, 45]"
      ]
     },
     "execution_count": 12,
     "metadata": {},
     "output_type": "execute_result"
    }
   ],
   "source": [
    "age_copy"
   ]
  },
  {
   "cell_type": "code",
   "execution_count": 15,
   "id": "4eeb6228-7d05-4d5f-bdd3-617800035821",
   "metadata": {},
   "outputs": [
    {
     "data": {
      "text/plain": [
       "1"
      ]
     },
     "execution_count": 15,
     "metadata": {},
     "output_type": "execute_result"
    }
   ],
   "source": [
    "ages.count(56)"
   ]
  },
  {
   "cell_type": "code",
   "execution_count": 23,
   "id": "b1a580b8-c657-4c62-bb68-12d19ed3c407",
   "metadata": {},
   "outputs": [],
   "source": [
    "other_ages = [23, 28, 31]"
   ]
  },
  {
   "cell_type": "code",
   "execution_count": 24,
   "id": "95349187-9d15-4c22-83f1-1ef7526d773c",
   "metadata": {},
   "outputs": [],
   "source": [
    "ages.extend(other_ages)"
   ]
  },
  {
   "cell_type": "code",
   "execution_count": 27,
   "id": "11318f50-ec1b-4ee0-90d3-fb02a3268ccb",
   "metadata": {},
   "outputs": [
    {
     "data": {
      "text/plain": [
       "[31, 28, 23, 45, 23, 89, 56]"
      ]
     },
     "execution_count": 27,
     "metadata": {},
     "output_type": "execute_result"
    }
   ],
   "source": [
    "ages"
   ]
  },
  {
   "cell_type": "code",
   "execution_count": 26,
   "id": "41303368-ab31-4c1b-b0b4-48d67f3929fa",
   "metadata": {},
   "outputs": [],
   "source": [
    "ages.reverse()"
   ]
  },
  {
   "cell_type": "code",
   "execution_count": 28,
   "id": "ed2bf9f8-151c-4884-b3ef-3c32f8ca9be6",
   "metadata": {},
   "outputs": [
    {
     "data": {
      "text/plain": [
       "[31, 28, 23, 45, 23, 89, 56]"
      ]
     },
     "execution_count": 28,
     "metadata": {},
     "output_type": "execute_result"
    }
   ],
   "source": [
    "ages"
   ]
  },
  {
   "cell_type": "code",
   "execution_count": 35,
   "id": "2c5c0cbe-070d-457c-b56c-210ca9c9c081",
   "metadata": {},
   "outputs": [
    {
     "data": {
      "text/plain": [
       "2"
      ]
     },
     "execution_count": 35,
     "metadata": {},
     "output_type": "execute_result"
    }
   ],
   "source": [
    "ages.index(23)"
   ]
  },
  {
   "cell_type": "code",
   "execution_count": 29,
   "id": "ebea57a6-0f46-4873-ae98-f68b970f7d78",
   "metadata": {},
   "outputs": [],
   "source": [
    "# In remove(), you specify the value directly that you want to remove from the list.\n",
    "# In pop(), you specify the index of the value you want to remove from the list."
   ]
  },
  {
   "cell_type": "code",
   "execution_count": null,
   "id": "4f512554-d8a2-40f8-8f5a-41b1cd619964",
   "metadata": {},
   "outputs": [],
   "source": []
  }
 ],
 "metadata": {
  "kernelspec": {
   "display_name": "Python 3 (ipykernel)",
   "language": "python",
   "name": "python3"
  },
  "language_info": {
   "codemirror_mode": {
    "name": "ipython",
    "version": 3
   },
   "file_extension": ".py",
   "mimetype": "text/x-python",
   "name": "python",
   "nbconvert_exporter": "python",
   "pygments_lexer": "ipython3",
   "version": "3.12.7"
  }
 },
 "nbformat": 4,
 "nbformat_minor": 5
}
