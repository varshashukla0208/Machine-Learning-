{
 "cells": [
  {
   "cell_type": "markdown",
   "id": "408249d9-3271-46b9-a4a6-63503f5070a7",
   "metadata": {},
   "source": [
    "### dictionaries"
   ]
  },
  {
   "cell_type": "code",
   "execution_count": 10,
   "id": "b5831851-cfd3-4686-ae7c-9e491144ac69",
   "metadata": {},
   "outputs": [],
   "source": [
    "names = {\"Yash\": 26, \"Varsha\" : [24, 56], \"Dhwani\" : 25}"
   ]
  },
  {
   "cell_type": "code",
   "execution_count": 4,
   "id": "dcf3fbd9-2b26-4cf0-9423-94619bfc133c",
   "metadata": {},
   "outputs": [
    {
     "data": {
      "text/plain": [
       "dict"
      ]
     },
     "execution_count": 4,
     "metadata": {},
     "output_type": "execute_result"
    }
   ],
   "source": [
    "type(names)"
   ]
  },
  {
   "cell_type": "code",
   "execution_count": 13,
   "id": "34e5bc1d-3191-4dae-9af5-654694b97525",
   "metadata": {},
   "outputs": [
    {
     "data": {
      "text/plain": [
       "{'Yash': 28, 'Varsha': [24, 56], 'Dhwani': 25}"
      ]
     },
     "execution_count": 13,
     "metadata": {},
     "output_type": "execute_result"
    }
   ],
   "source": [
    "names"
   ]
  },
  {
   "cell_type": "code",
   "execution_count": 11,
   "id": "aea76dee-111f-449c-8da7-6b865c211c55",
   "metadata": {},
   "outputs": [
    {
     "data": {
      "text/plain": [
       "28"
      ]
     },
     "execution_count": 11,
     "metadata": {},
     "output_type": "execute_result"
    }
   ],
   "source": [
    "names[\"Yash\"]"
   ]
  },
  {
   "cell_type": "markdown",
   "id": "28d0b363-09d5-4b0c-9c87-127129ee4439",
   "metadata": {},
   "source": [
    "### Dictionaries are unordered data structure.\n",
    "### We should have the key for accessing the value.\n",
    "### Duplicates are not allowed it will refere the recent updated value."
   ]
  },
  {
   "cell_type": "code",
   "execution_count": 17,
   "id": "754868d7-c7e5-402f-a893-23cce30d82a6",
   "metadata": {},
   "outputs": [
    {
     "data": {
      "text/plain": [
       "[24, 56]"
      ]
     },
     "execution_count": 17,
     "metadata": {},
     "output_type": "execute_result"
    }
   ],
   "source": [
    "names[\"Varsha\"]"
   ]
  },
  {
   "cell_type": "code",
   "execution_count": 18,
   "id": "194d9b94-5e5a-4739-ac16-bf37be03543f",
   "metadata": {},
   "outputs": [
    {
     "data": {
      "text/plain": [
       "list"
      ]
     },
     "execution_count": 18,
     "metadata": {},
     "output_type": "execute_result"
    }
   ],
   "source": [
    "type(names[\"Varsha\"])"
   ]
  },
  {
   "cell_type": "code",
   "execution_count": 20,
   "id": "e7b4171c-ac00-4f65-8004-abb9d4131a16",
   "metadata": {},
   "outputs": [
    {
     "data": {
      "text/plain": [
       "28"
      ]
     },
     "execution_count": 20,
     "metadata": {},
     "output_type": "execute_result"
    }
   ],
   "source": [
    "names.get(\"Yash\")"
   ]
  },
  {
   "cell_type": "code",
   "execution_count": 21,
   "id": "a327bf0e-4c02-41b0-a4a0-ba99bc293a8d",
   "metadata": {},
   "outputs": [],
   "source": []
  },
  {
   "cell_type": "code",
   "execution_count": 25,
   "id": "5b8ca7f7-e7ec-4d66-9f78-51e067284def",
   "metadata": {},
   "outputs": [
    {
     "data": {
      "text/plain": [
       "{'Yash': 28, 'Varsha': [24, 56], 'Dhwani': 25}"
      ]
     },
     "execution_count": 25,
     "metadata": {},
     "output_type": "execute_result"
    }
   ],
   "source": [
    "names"
   ]
  },
  {
   "cell_type": "code",
   "execution_count": 26,
   "id": "4ed73052-fad6-46f9-b1e7-10f823b19c09",
   "metadata": {},
   "outputs": [
    {
     "data": {
      "text/plain": [
       "25"
      ]
     },
     "execution_count": 26,
     "metadata": {},
     "output_type": "execute_result"
    }
   ],
   "source": [
    "names.pop(\"Dhwani\")"
   ]
  },
  {
   "cell_type": "code",
   "execution_count": 27,
   "id": "4093a00f-c4e0-434a-84c8-3c6f11a0380b",
   "metadata": {},
   "outputs": [
    {
     "data": {
      "text/plain": [
       "dict_items([('Yash', 28), ('Varsha', [24, 56])])"
      ]
     },
     "execution_count": 27,
     "metadata": {},
     "output_type": "execute_result"
    }
   ],
   "source": [
    "names.items()"
   ]
  },
  {
   "cell_type": "code",
   "execution_count": 30,
   "id": "8d767138-1572-4e16-b8cb-3c43510e1be5",
   "metadata": {},
   "outputs": [
    {
     "data": {
      "text/plain": [
       "dict_keys(['Yash', 'Varsha'])"
      ]
     },
     "execution_count": 30,
     "metadata": {},
     "output_type": "execute_result"
    }
   ],
   "source": [
    "names.keys()"
   ]
  },
  {
   "cell_type": "code",
   "execution_count": 31,
   "id": "fa4488f4-001c-4d87-8cf5-ac9c6e02ba16",
   "metadata": {},
   "outputs": [
    {
     "data": {
      "text/plain": [
       "dict_values([28, [24, 56]])"
      ]
     },
     "execution_count": 31,
     "metadata": {},
     "output_type": "execute_result"
    }
   ],
   "source": [
    "names.values()"
   ]
  },
  {
   "cell_type": "code",
   "execution_count": 32,
   "id": "4167803e-2ede-49bd-9131-dab5f0f7c69b",
   "metadata": {},
   "outputs": [
    {
     "data": {
      "text/plain": [
       "{'Yash': 28, 'Varsha': [24, 56]}"
      ]
     },
     "execution_count": 32,
     "metadata": {},
     "output_type": "execute_result"
    }
   ],
   "source": [
    "names.copy()"
   ]
  },
  {
   "cell_type": "markdown",
   "id": "3af06288-fd60-4e81-851a-f78a705e77c3",
   "metadata": {},
   "source": [
    "### Sets"
   ]
  },
  {
   "cell_type": "markdown",
   "id": "4ba133da-009f-432c-8e06-26adeea23f07",
   "metadata": {},
   "source": [
    "### Sets only stores the unique elements not duplicated elements."
   ]
  },
  {
   "cell_type": "code",
   "execution_count": 40,
   "id": "d4ca9671-2cad-41e9-b8d0-868a9a97f94d",
   "metadata": {},
   "outputs": [],
   "source": [
    "set_1 = {1,2,2,2,2,3,1,3,5,6,7,2,1,4}"
   ]
  },
  {
   "cell_type": "code",
   "execution_count": 41,
   "id": "4040bf7e-0436-4875-a7e7-d0ee627d223f",
   "metadata": {},
   "outputs": [
    {
     "data": {
      "text/plain": [
       "{1, 2, 3, 4, 5, 6, 7}"
      ]
     },
     "execution_count": 41,
     "metadata": {},
     "output_type": "execute_result"
    }
   ],
   "source": [
    "set_1"
   ]
  },
  {
   "cell_type": "code",
   "execution_count": null,
   "id": "da733bd2-4931-4d72-b30d-0bb79115de0e",
   "metadata": {},
   "outputs": [],
   "source": [
    "l = {1,2,3,4,1,3,}"
   ]
  },
  {
   "cell_type": "code",
   "execution_count": 44,
   "id": "b74c030f-95e9-49f0-88e1-0ba856a6fc9d",
   "metadata": {},
   "outputs": [
    {
     "data": {
      "text/plain": [
       "set"
      ]
     },
     "execution_count": 44,
     "metadata": {},
     "output_type": "execute_result"
    }
   ],
   "source": [
    "type(set_1)"
   ]
  },
  {
   "cell_type": "code",
   "execution_count": 45,
   "id": "52aff0e3-ec35-414e-8a0c-636fad67ffd7",
   "metadata": {},
   "outputs": [],
   "source": [
    "set_1.add(8)"
   ]
  },
  {
   "cell_type": "code",
   "execution_count": 46,
   "id": "14f58a62-2832-49af-bd91-4fa086755431",
   "metadata": {},
   "outputs": [
    {
     "data": {
      "text/plain": [
       "{1, 2, 3, 4, 5, 6, 7, 8}"
      ]
     },
     "execution_count": 46,
     "metadata": {},
     "output_type": "execute_result"
    }
   ],
   "source": [
    "set_1"
   ]
  },
  {
   "cell_type": "code",
   "execution_count": 47,
   "id": "b64c902e-7f93-4d42-9b34-36de451423b1",
   "metadata": {},
   "outputs": [
    {
     "data": {
      "text/plain": [
       "{1, 2, 3, 4, 5, 6, 7, 8}"
      ]
     },
     "execution_count": 47,
     "metadata": {},
     "output_type": "execute_result"
    }
   ],
   "source": [
    "set_1.difference()"
   ]
  },
  {
   "cell_type": "code",
   "execution_count": 48,
   "id": "6ea872a5-bbc0-43d8-814e-fb83d5c4b551",
   "metadata": {},
   "outputs": [],
   "source": [
    "set_2 = {1, 2,3,8,11,34,67,2,8,23}"
   ]
  },
  {
   "cell_type": "code",
   "execution_count": 49,
   "id": "c8f36ff7-8ce2-4062-a518-b0e7faa288bb",
   "metadata": {},
   "outputs": [
    {
     "data": {
      "text/plain": [
       "{4, 5, 6, 7}"
      ]
     },
     "execution_count": 49,
     "metadata": {},
     "output_type": "execute_result"
    }
   ],
   "source": [
    "set_1.difference(set_2)"
   ]
  },
  {
   "cell_type": "code",
   "execution_count": 50,
   "id": "890c32a2-1d70-422f-832b-f2deed3ae303",
   "metadata": {},
   "outputs": [
    {
     "data": {
      "text/plain": [
       "{1, 2, 3, 8}"
      ]
     },
     "execution_count": 50,
     "metadata": {},
     "output_type": "execute_result"
    }
   ],
   "source": [
    "set_1.intersection(set_2)"
   ]
  },
  {
   "cell_type": "code",
   "execution_count": 53,
   "id": "a5084e88-6c4f-482e-a133-129e61774821",
   "metadata": {},
   "outputs": [],
   "source": [
    "set_1.difference_update(set_2)"
   ]
  },
  {
   "cell_type": "code",
   "execution_count": 54,
   "id": "14e7b970-1683-45ca-bdd2-325c20eb8856",
   "metadata": {},
   "outputs": [
    {
     "data": {
      "text/plain": [
       "{4, 5, 6, 7}"
      ]
     },
     "execution_count": 54,
     "metadata": {},
     "output_type": "execute_result"
    }
   ],
   "source": [
    "set_1"
   ]
  },
  {
   "cell_type": "markdown",
   "id": "d0f5bc08-b737-486c-b1b1-1a4964eb1eea",
   "metadata": {},
   "source": [
    "### Slicing"
   ]
  },
  {
   "cell_type": "markdown",
   "id": "48d2b7fe-c69e-4779-9161-0e62724b8bbe",
   "metadata": {},
   "source": [
    "### Syntax\n",
    "\n",
    "[start index: end index: step]"
   ]
  },
  {
   "cell_type": "code",
   "execution_count": 56,
   "id": "1cbb93ea-4da4-4a56-9491-93cb77ce97eb",
   "metadata": {},
   "outputs": [],
   "source": [
    "l = [12,37,11,2,56,58,98]"
   ]
  },
  {
   "cell_type": "code",
   "execution_count": 57,
   "id": "86ca07c9-6033-4510-88a2-4f00738d03d1",
   "metadata": {},
   "outputs": [
    {
     "data": {
      "text/plain": [
       "[12, 37, 11, 2, 56, 58, 98]"
      ]
     },
     "execution_count": 57,
     "metadata": {},
     "output_type": "execute_result"
    }
   ],
   "source": [
    "l"
   ]
  },
  {
   "cell_type": "code",
   "execution_count": 61,
   "id": "b57be7d1-1d2e-426b-b1d2-e7edc064abfb",
   "metadata": {},
   "outputs": [
    {
     "data": {
      "text/plain": [
       "[2, 56]"
      ]
     },
     "execution_count": 61,
     "metadata": {},
     "output_type": "execute_result"
    }
   ],
   "source": [
    "l[3:5:1] #end - start"
   ]
  },
  {
   "cell_type": "code",
   "execution_count": 62,
   "id": "9f0ba17f-dee4-4e4c-bdc9-cf9c4a7e7575",
   "metadata": {},
   "outputs": [
    {
     "data": {
      "text/plain": [
       "[37, 11, 2, 56, 58, 98]"
      ]
     },
     "execution_count": 62,
     "metadata": {},
     "output_type": "execute_result"
    }
   ],
   "source": [
    "l[1:]"
   ]
  },
  {
   "cell_type": "code",
   "execution_count": 63,
   "id": "607e19b5-f30b-454b-b3a2-deb99d04a6fe",
   "metadata": {},
   "outputs": [
    {
     "data": {
      "text/plain": [
       "[12, 37, 11, 2, 56]"
      ]
     },
     "execution_count": 63,
     "metadata": {},
     "output_type": "execute_result"
    }
   ],
   "source": [
    "l[:5]"
   ]
  },
  {
   "cell_type": "code",
   "execution_count": 64,
   "id": "de52a964-38f1-42ca-96bb-15678d5e06ba",
   "metadata": {},
   "outputs": [],
   "source": [
    "result = 5 + 2.0"
   ]
  },
  {
   "cell_type": "code",
   "execution_count": 65,
   "id": "2128572a-13d1-4738-b240-7c5d543309de",
   "metadata": {},
   "outputs": [
    {
     "data": {
      "text/plain": [
       "float"
      ]
     },
     "execution_count": 65,
     "metadata": {},
     "output_type": "execute_result"
    }
   ],
   "source": [
    "type(result)"
   ]
  },
  {
   "cell_type": "code",
   "execution_count": null,
   "id": "749471c5-bf13-48eb-a049-f097b9a69f06",
   "metadata": {},
   "outputs": [],
   "source": []
  }
 ],
 "metadata": {
  "kernelspec": {
   "display_name": "Python 3 (ipykernel)",
   "language": "python",
   "name": "python3"
  },
  "language_info": {
   "codemirror_mode": {
    "name": "ipython",
    "version": 3
   },
   "file_extension": ".py",
   "mimetype": "text/x-python",
   "name": "python",
   "nbconvert_exporter": "python",
   "pygments_lexer": "ipython3",
   "version": "3.12.7"
  }
 },
 "nbformat": 4,
 "nbformat_minor": 5
}
