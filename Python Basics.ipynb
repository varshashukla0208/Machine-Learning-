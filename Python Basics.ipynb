{
 "cells": [
  {
   "cell_type": "markdown",
   "id": "9b0b2045-436f-45a6-9e68-76b8b1c8baf5",
   "metadata": {},
   "source": [
    "## Float"
   ]
  },
  {
   "cell_type": "code",
   "execution_count": null,
   "id": "f227c452-7e6e-4f02-a889-427cf76ed04e",
   "metadata": {},
   "outputs": [],
   "source": []
  },
  {
   "cell_type": "markdown",
   "id": "e5e7aed9-5e78-4448-b256-ca02e5dad8fc",
   "metadata": {},
   "source": [
    "### Integer"
   ]
  },
  {
   "cell_type": "code",
   "execution_count": 1,
   "id": "dcbfc0e5-7364-499c-a4d2-132066131b3f",
   "metadata": {},
   "outputs": [
    {
     "name": "stdout",
     "output_type": "stream",
     "text": [
      "24\n",
      "2025\n",
      "<class 'int'>\n",
      "<class 'int'>\n"
     ]
    }
   ],
   "source": [
    "# Integer\n",
    "\n",
    "age = 24 \n",
    "year = 2025\n",
    "\n",
    "print(age)\n",
    "print(year)\n",
    "print(type(age))\n",
    "print(type(year))"
   ]
  },
  {
   "cell_type": "markdown",
   "id": "0a0b0877-d470-496e-8725-30b9dcf9c5df",
   "metadata": {},
   "source": [
    "## Boolean"
   ]
  },
  {
   "cell_type": "code",
   "execution_count": 3,
   "id": "f7e66b44-d1f3-4bfe-9bd6-08ffa4d0bd03",
   "metadata": {},
   "outputs": [
    {
     "data": {
      "text/plain": [
       "bool"
      ]
     },
     "execution_count": 3,
     "metadata": {},
     "output_type": "execute_result"
    }
   ],
   "source": [
    "is_working = True\n",
    "is_raining = False\n",
    "\n",
    "type(is_working)"
   ]
  },
  {
   "cell_type": "markdown",
   "id": "a014a2b3-a8f7-4820-abf8-69a73416d953",
   "metadata": {},
   "source": [
    "## String "
   ]
  },
  {
   "cell_type": "code",
   "execution_count": 9,
   "id": "1dac6670-a15b-4103-bd1f-185ac7a8612d",
   "metadata": {},
   "outputs": [
    {
     "name": "stdout",
     "output_type": "stream",
     "text": [
      " \n",
      "John Doe\n",
      "Hello World !\n"
     ]
    }
   ],
   "source": [
    "name = \"John Doe\"\n",
    "massage = \"Hello World !\"\n",
    "empty_str = \" \"\n",
    "\n",
    "print(empty_str)\n",
    "print(name)\n",
    "print(massage)"
   ]
  },
  {
   "cell_type": "markdown",
   "id": "4703a203-7e14-4bb5-832a-a4bfa2ebc643",
   "metadata": {},
   "source": [
    "## Mathematical Operation"
   ]
  },
  {
   "cell_type": "markdown",
   "id": "a04fc46d-59f8-4838-b6ec-a88b156daab2",
   "metadata": {},
   "source": [
    "### Addition"
   ]
  },
  {
   "cell_type": "code",
   "execution_count": 15,
   "id": "3801966c-f10f-45bf-a8fe-01a5067e6a44",
   "metadata": {},
   "outputs": [
    {
     "name": "stdout",
     "output_type": "stream",
     "text": [
      "30\n",
      "720.8\n"
     ]
    }
   ],
   "source": [
    "a =10\n",
    "b = 20\n",
    "\n",
    "result = a + b\n",
    "print(result)\n",
    "\n",
    "item1 = 120.3\n",
    "item2 = 600.50\n",
    "\n",
    "total_price = item1 + item2\n",
    "print(total_price)\n"
   ]
  },
  {
   "cell_type": "markdown",
   "id": "edbbce5d-2967-447c-b161-27813b2fb885",
   "metadata": {},
   "source": [
    "### Subsraction"
   ]
  },
  {
   "cell_type": "code",
   "execution_count": 17,
   "id": "0b8c56f5-aa1f-4808-9bae-0ab845c07e27",
   "metadata": {},
   "outputs": [
    {
     "name": "stdout",
     "output_type": "stream",
     "text": [
      "620.8\n"
     ]
    }
   ],
   "source": [
    "a = 20\n",
    "\n",
    "total_price = 720.8\n",
    "discount = 100\n",
    "\n",
    "final_price = total_price - discount\n",
    "print(final_price)"
   ]
  },
  {
   "cell_type": "markdown",
   "id": "f8996100-63e3-4f1b-83b1-9c7c012824a0",
   "metadata": {},
   "source": [
    "### Multiplications"
   ]
  },
  {
   "cell_type": "code",
   "execution_count": 19,
   "id": "6b57e56f-eff2-4166-93a8-f02c55d15237",
   "metadata": {},
   "outputs": [
    {
     "name": "stdout",
     "output_type": "stream",
     "text": [
      "24\n"
     ]
    }
   ],
   "source": [
    "a = 4\n",
    "b = 6\n",
    "\n",
    "result = a * b\n",
    "print(result)\n",
    "\n",
    "length = 12.5\n",
    "width = 8.9\n",
    "\n",
    "area = length * width"
   ]
  },
  {
   "cell_type": "markdown",
   "id": "04956672-6edf-40bc-9ba6-3cfb7bf30704",
   "metadata": {},
   "source": [
    "### Floor division (//)"
   ]
  },
  {
   "cell_type": "code",
   "execution_count": 22,
   "id": "5d3e24ac-60a8-47e2-ac59-df27d5c980dc",
   "metadata": {},
   "outputs": [
    {
     "name": "stdout",
     "output_type": "stream",
     "text": [
      "4\n"
     ]
    }
   ],
   "source": [
    "a =17\n",
    "b = 4\n",
    "\n",
    "result = a // b\n",
    "print(result)\n",
    "\n",
    "\n",
    "# 17/4 = 4.25"
   ]
  },
  {
   "cell_type": "markdown",
   "id": "0065d851-cad4-4463-b720-84eee0f8c456",
   "metadata": {},
   "source": [
    "### Modulus"
   ]
  },
  {
   "cell_type": "code",
   "execution_count": 26,
   "id": "2b0db1b5-9416-44db-a6b8-e5b655310a4a",
   "metadata": {},
   "outputs": [
    {
     "name": "stdout",
     "output_type": "stream",
     "text": [
      "2\n"
     ]
    }
   ],
   "source": [
    "a = 17\n",
    "b = 5\n",
    "\n",
    "reminder = 17 % 5\n",
    "res =print(reminder)"
   ]
  },
  {
   "cell_type": "markdown",
   "id": "681b4cd0-a895-4104-abf0-a88030321575",
   "metadata": {},
   "source": [
    "### Exponential"
   ]
  },
  {
   "cell_type": "code",
   "execution_count": 25,
   "id": "2c6b525a-56e5-429d-80be-8610da8c7fac",
   "metadata": {},
   "outputs": [
    {
     "name": "stdout",
     "output_type": "stream",
     "text": [
      "8\n"
     ]
    }
   ],
   "source": [
    "base = 2\n",
    "exponent = 3\n",
    "\n",
    "res = base ** exponent\n",
    "print(res)"
   ]
  },
  {
   "cell_type": "code",
   "execution_count": 30,
   "id": "9e40c16b-c394-40cd-ae28-c31ca719e8b0",
   "metadata": {},
   "outputs": [
    {
     "name": "stdout",
     "output_type": "stream",
     "text": [
      "15\n",
      "26\n",
      "500.0\n",
      "3\n"
     ]
    }
   ],
   "source": [
    "a = 10\n",
    "b =3\n",
    "c =2\n",
    "\n",
    "res = a+b+c\n",
    "res2 = (a+b) * c \n",
    "res3 = a ** b /c  ## 10 **3 ==> 10^3 ==> 10 * 10 * 10 = 1000\n",
    "res4 = a % b + c\n",
    "\n",
    "print(res)\n",
    "print(res2)\n",
    "print(res3)\n",
    "print(res4)"
   ]
  },
  {
   "cell_type": "markdown",
   "id": "81598de7-f647-475f-a987-b2ed674f1c33",
   "metadata": {},
   "source": [
    "## Comparison Operator"
   ]
  },
  {
   "cell_type": "markdown",
   "id": "fdfcfb3b-80ce-4f6b-926e-8dc79d99e6a6",
   "metadata": {},
   "source": [
    "##### Comparison operators compares two values and returns a boolean value."
   ]
  },
  {
   "cell_type": "code",
   "execution_count": 37,
   "id": "dd4fe032-4548-46ef-8f72-14404adfdec7",
   "metadata": {},
   "outputs": [
    {
     "name": "stdout",
     "output_type": "stream",
     "text": [
      "False\n",
      "False\n",
      "True\n",
      "True\n",
      "False\n"
     ]
    }
   ],
   "source": [
    "# = (Assignment )\n",
    "# == (Equality Comparison)\n",
    "\n",
    "name1 = \"John\"\n",
    "name2 = \"john\"\n",
    "name3 = \"John\"\n",
    "name4 = \"john\"\n",
    "\n",
    "print(name1 == name2)\n",
    "print(name2 == name3)\n",
    "print(name3 == name1)\n",
    "\n",
    "print(12.99 == 12.99)\n",
    "print(10.0 == 13.4)\n"
   ]
  },
  {
   "cell_type": "markdown",
   "id": "51d12dd8-b449-42fe-9926-1f8eab58934f",
   "metadata": {},
   "source": [
    "## not equal to (!=)"
   ]
  },
  {
   "cell_type": "code",
   "execution_count": 39,
   "id": "76311199-3ecb-4e33-b766-2f37407acdfa",
   "metadata": {},
   "outputs": [
    {
     "name": "stdout",
     "output_type": "stream",
     "text": [
      "True\n",
      "True\n",
      "False\n",
      "False\n",
      "True\n"
     ]
    }
   ],
   "source": [
    "# not equal to (!=)\n",
    "# true if not equal\n",
    "\n",
    "name1 = \"John\"\n",
    "name2 = \"john\"\n",
    "name3 = \"John\"\n",
    "name4 = \"john\"\n",
    "\n",
    "print(name1 != name2)\n",
    "print(name2 !=  name3)\n",
    "print(name3 !=  name1)\n",
    "\n",
    "print(12.99 !=  12.99)\n",
    "print(10.0 !=  13.4)"
   ]
  },
  {
   "cell_type": "markdown",
   "id": "cb3f92a8-4e0e-45c3-b06b-68ef3dcad5db",
   "metadata": {},
   "source": [
    "#### Greater then (>)"
   ]
  },
  {
   "cell_type": "code",
   "execution_count": 41,
   "id": "3ca572ea-7174-4e21-9408-259e075c7b80",
   "metadata": {},
   "outputs": [
    {
     "name": "stdout",
     "output_type": "stream",
     "text": [
      "False\n",
      "True\n"
     ]
    }
   ],
   "source": [
    "score1 = 85.5\n",
    "score2 = 82.3\n",
    "\n",
    "print(score1 < score2)\n",
    "print(score1 > score2)"
   ]
  },
  {
   "cell_type": "markdown",
   "id": "92a40233-d4a6-428d-9d22-68ffbfde7d7e",
   "metadata": {},
   "source": [
    "#### Less then (<)"
   ]
  },
  {
   "cell_type": "code",
   "execution_count": 42,
   "id": "6d1ef5c7-4e30-4d8e-8e1f-d3c6db054032",
   "metadata": {},
   "outputs": [
    {
     "name": "stdout",
     "output_type": "stream",
     "text": [
      "True\n"
     ]
    }
   ],
   "source": [
    "score1 = 85.5\n",
    "score2 = 82.3\n",
    "\n",
    "print(score1 > score2)\n"
   ]
  },
  {
   "cell_type": "markdown",
   "id": "5b66c6b0-e1ec-4807-bcf1-8769643ec5b8",
   "metadata": {},
   "source": [
    "####  Less then or equal to "
   ]
  },
  {
   "cell_type": "code",
   "execution_count": 44,
   "id": "b7bf4d57-ed9e-48cb-ab4c-76c9a2e98edf",
   "metadata": {},
   "outputs": [
    {
     "name": "stdout",
     "output_type": "stream",
     "text": [
      "Valid score:  True\n"
     ]
    }
   ],
   "source": [
    "score = 85\n",
    "min_pass = 60\n",
    "max_score = 100\n",
    "\n",
    "valid_score = min_pass <= score <= max_score\n",
    "print(\"Valid score: \", valid_score)"
   ]
  },
  {
   "cell_type": "markdown",
   "id": "8663b92d-3299-4478-9b20-326bc56ee2c5",
   "metadata": {},
   "source": [
    "#### Logical Operator "
   ]
  },
  {
   "cell_type": "markdown",
   "id": "0587401a-ff48-457c-99c5-f67966208166",
   "metadata": {},
   "source": [
    "### AND\n",
    "##### Return True  if both the conditions are True"
   ]
  },
  {
   "cell_type": "code",
   "execution_count": 46,
   "id": "b2eb088c-8734-4d43-9127-018da1653fa7",
   "metadata": {},
   "outputs": [
    {
     "name": "stdout",
     "output_type": "stream",
     "text": [
      "True\n"
     ]
    }
   ],
   "source": [
    "age = 25\n",
    "has_license = True\n",
    "can_drive = age>= 18 and has_license\n",
    "print(can_drive)"
   ]
  },
  {
   "cell_type": "markdown",
   "id": "ee2a44b4-09b7-4068-b93c-c47b668ff2d4",
   "metadata": {},
   "source": [
    "### OR\n",
    "##### Return True if atleast one condition is True"
   ]
  },
  {
   "cell_type": "code",
   "execution_count": 49,
   "id": "5f3beb4f-c95a-410f-a43c-808245266548",
   "metadata": {},
   "outputs": [
    {
     "name": "stdout",
     "output_type": "stream",
     "text": [
      "True\n"
     ]
    }
   ],
   "source": [
    "is_weekend = True\n",
    "is_holiday = False\n",
    "\n",
    "can_sleep_till_10_am = is_weekend or is_holiday\n",
    "print(can_sleep_till_10_am)"
   ]
  },
  {
   "cell_type": "markdown",
   "id": "d118c44f-3b99-496b-b6c4-a645d3722b2b",
   "metadata": {},
   "source": [
    "### NOT \n",
    "\n",
    "##### "
   ]
  },
  {
   "cell_type": "code",
   "execution_count": 50,
   "id": "d42c9ea7-ccd2-48a2-93e5-55429a76760a",
   "metadata": {},
   "outputs": [
    {
     "name": "stdout",
     "output_type": "stream",
     "text": [
      "True\n"
     ]
    }
   ],
   "source": [
    "is_raining = False\n",
    "go_for_walk = not is_raining\n",
    "print(go_for_walk)\n"
   ]
  },
  {
   "cell_type": "markdown",
   "id": "32d2f92e-1632-474b-905b-29c159b58676",
   "metadata": {},
   "source": [
    "### Condition Statement\n",
    "\n"
   ]
  },
  {
   "cell_type": "markdown",
   "id": "bf5079b9-4322-4d18-aaa8-d404ae3df95e",
   "metadata": {},
   "source": [
    "#### If condition"
   ]
  },
  {
   "cell_type": "code",
   "execution_count": 55,
   "id": "1026f8d1-fdcf-45c2-b65d-2509486529ed",
   "metadata": {},
   "outputs": [
    {
     "name": "stdout",
     "output_type": "stream",
     "text": [
      "Eligible to vote\n"
     ]
    }
   ],
   "source": [
    "# Traffic lights\n",
    "# red_light = we don't cross the road \n",
    "# Green light = we cross the road\n",
    "\n",
    "age =18\n",
    "if age >= 18:\n",
    "    print(\"Eligible to vote\")\n",
    "    "
   ]
  },
  {
   "cell_type": "markdown",
   "id": "c630c8a5-8665-44bc-94c4-e6279e963992",
   "metadata": {},
   "source": [
    "#### If -----else:"
   ]
  },
  {
   "cell_type": "code",
   "execution_count": 58,
   "id": "b45f2bec-9762-4faf-ba0c-45e16b8a1702",
   "metadata": {},
   "outputs": [
    {
     "name": "stdout",
     "output_type": "stream",
     "text": [
      "Not eligible to vote\n"
     ]
    }
   ],
   "source": [
    "age =16\n",
    "if age >= 18:\n",
    "    print(\"Eligible to vote\")\n",
    "else:\n",
    "    print(\"Not eligible to vote\")"
   ]
  },
  {
   "cell_type": "markdown",
   "id": "77740982-e5bf-436a-b6f6-e19d5beb412c",
   "metadata": {},
   "source": [
    "### ELIF"
   ]
  },
  {
   "cell_type": "code",
   "execution_count": 59,
   "id": "89b64dc3-2e6c-48d6-bb86-83340f19c845",
   "metadata": {},
   "outputs": [
    {
     "name": "stdout",
     "output_type": "stream",
     "text": [
      "Grade B\n"
     ]
    }
   ],
   "source": [
    "score = 85 \n",
    "\n",
    "if score >= 90:\n",
    "    print(\"Grade A\")\n",
    "elif score >= 80:\n",
    "    print(\"Grade B\")\n",
    "elif score >= 70:\n",
    "    print(\"Grade C\")   \n",
    "else:\n",
    "    print(\"Grade D\")"
   ]
  },
  {
   "cell_type": "markdown",
   "id": "c25b82ca-4a47-4d00-89d9-03f5a4d4eda8",
   "metadata": {},
   "source": [
    "#### Multiple If else conditions"
   ]
  },
  {
   "cell_type": "code",
   "execution_count": 60,
   "id": "6f8c53c3-1f2b-4492-8c47-f691fe21835b",
   "metadata": {},
   "outputs": [
    {
     "name": "stdout",
     "output_type": "stream",
     "text": [
      "Eligible to drive\n",
      "You can drive\n"
     ]
    }
   ],
   "source": [
    "age = 25\n",
    "has_license = True\n",
    "\n",
    "if age >= 18:\n",
    "    print('Eligible to drive')\n",
    "    if has_license:\n",
    "        print(\"You can drive\")\n",
    "    else:\n",
    "        print(\"Grt your license first\")\n",
    "else:\n",
    "    print(\"Too younge to drive\")"
   ]
  },
  {
   "cell_type": "markdown",
   "id": "13ec534b-0e4e-41ed-a09c-7f0b604e406c",
   "metadata": {},
   "source": [
    "### Loops\n",
    "#### Loops runs or execute a code block certain number of times."
   ]
  },
  {
   "cell_type": "code",
   "execution_count": 64,
   "id": "45758c7b-c35f-41fb-81ed-82486b365d2d",
   "metadata": {},
   "outputs": [
    {
     "name": "stdout",
     "output_type": "stream",
     "text": [
      "hello\n",
      "hello\n",
      "hello\n",
      "hello\n",
      "hello\n"
     ]
    }
   ],
   "source": [
    "## Print hello 5 times\n",
    "\n",
    "print(\"hello\")\n",
    "print(\"hello\")\n",
    "print(\"hello\")\n",
    "print(\"hello\")\n",
    "print(\"hello\")"
   ]
  },
  {
   "cell_type": "markdown",
   "id": "1d930c08-9443-4ece-abd7-2d09ef09384f",
   "metadata": {},
   "source": [
    "#### For Loop"
   ]
  },
  {
   "cell_type": "code",
   "execution_count": 68,
   "id": "6f7cbca5-c0cf-49d3-8277-d4938068472f",
   "metadata": {},
   "outputs": [],
   "source": [
    "#for i in arr:\n",
    "   # print(i)"
   ]
  },
  {
   "cell_type": "markdown",
   "id": "c8e221da-5466-4fe2-b608-08165cd79434",
   "metadata": {},
   "source": [
    "#### range() function:"
   ]
  },
  {
   "cell_type": "code",
   "execution_count": 69,
   "id": "82dca651-b8c4-4a2d-8931-8bbcdf09cdcf",
   "metadata": {},
   "outputs": [],
   "source": [
    "# range() ==> return a sequence of numbers in range.\n",
    "## range() has three parameters.\n",
    "# range(start,stop,step)\n",
    "\n",
    "# 0 m --------------------------------------------------------1000 m\n",
    "# start                                                         stop \n",
    "\n",
    "# step = 5 m \n",
    "\n"
   ]
  },
  {
   "cell_type": "code",
   "execution_count": 75,
   "id": "0ebbf030-57aa-4694-bc96-e9ffd1fa759f",
   "metadata": {},
   "outputs": [
    {
     "name": "stdout",
     "output_type": "stream",
     "text": [
      "0\n",
      "1\n",
      "2\n",
      "3\n",
      "4\n",
      "5\n",
      "6\n",
      "7\n",
      "8\n",
      "9\n"
     ]
    }
   ],
   "source": [
    "for i in range(10):\n",
    "    print(i)"
   ]
  },
  {
   "cell_type": "code",
   "execution_count": 77,
   "id": "41a0cc9b-88ca-4566-b231-b2a5d661d953",
   "metadata": {},
   "outputs": [
    {
     "name": "stdout",
     "output_type": "stream",
     "text": [
      "0\n",
      "2\n",
      "4\n",
      "6\n",
      "8\n",
      "10\n"
     ]
    }
   ],
   "source": [
    "for i in range(0,11,2):\n",
    "    print(i)"
   ]
  },
  {
   "cell_type": "code",
   "execution_count": 80,
   "id": "4c079c09-8670-4c7e-8641-c709334a8b01",
   "metadata": {},
   "outputs": [
    {
     "name": "stdout",
     "output_type": "stream",
     "text": [
      "2\n",
      "3\n",
      "4\n"
     ]
    }
   ],
   "source": [
    "for key in range(2,5): # range(2,5,1)\n",
    "    print(key)"
   ]
  },
  {
   "cell_type": "code",
   "execution_count": 83,
   "id": "b521abae-2a56-4713-905c-e1b34698a91e",
   "metadata": {},
   "outputs": [
    {
     "name": "stdout",
     "output_type": "stream",
     "text": [
      "10\n",
      "11\n",
      "12\n",
      "13\n",
      "14\n",
      "15\n",
      "16\n",
      "17\n",
      "18\n",
      "19\n",
      "20\n"
     ]
    }
   ],
   "source": [
    "# print numbers from 10 to 20 ?\n",
    "\n",
    "for i in range(10, 21):\n",
    "    print(i)"
   ]
  },
  {
   "cell_type": "code",
   "execution_count": 85,
   "id": "79610017-2179-4b04-b10b-e63025df2a1b",
   "metadata": {},
   "outputs": [
    {
     "name": "stdout",
     "output_type": "stream",
     "text": [
      "1011121314151617181920\n"
     ]
    }
   ],
   "source": [
    "# print 1011121314151617181920\n",
    "\n",
    "s= \"\"\n",
    "\n",
    "for i  in range(10,21):\n",
    "    s += str(i)\n",
    "\n",
    "print(s)"
   ]
  },
  {
   "cell_type": "code",
   "execution_count": 87,
   "id": "876c9130-36c3-4a01-9750-97f8f61db87f",
   "metadata": {},
   "outputs": [
    {
     "name": "stdout",
     "output_type": "stream",
     "text": [
      "5\n",
      "4\n",
      "3\n",
      "2\n",
      "1\n"
     ]
    }
   ],
   "source": [
    "# Expected  o/p = 5 4 3 2 1 print in reverse\n",
    "\n",
    "for i in range(5,0, -1):\n",
    "    print(i)"
   ]
  },
  {
   "cell_type": "markdown",
   "id": "c1b8229a-cff5-4196-8ee1-8716677010ca",
   "metadata": {},
   "source": [
    "### Break statement\n",
    "\n",
    "#### if condition is true stop execution of loop and come oout of loop and print outside the condition.\n",
    "\n",
    "#### it breaks out of loop"
   ]
  },
  {
   "cell_type": "code",
   "execution_count": 89,
   "id": "47846ed0-0def-4695-aa46-fdb887acd7a0",
   "metadata": {},
   "outputs": [
    {
     "name": "stdout",
     "output_type": "stream",
     "text": [
      "1\n",
      "2\n",
      "3\n",
      "4\n"
     ]
    }
   ],
   "source": [
    "# print till 4 \n",
    "\n",
    "for i in range(1,11):\n",
    "    if i == 5:\n",
    "        break\n",
    "    print(i)"
   ]
  },
  {
   "cell_type": "markdown",
   "id": "33207f80-d521-40f3-a6de-137624854851",
   "metadata": {},
   "source": [
    "### Continue statement\n",
    "\n",
    "#### It skips the condition and moves further.\n",
    "#### Skiping the itration for that perticular value."
   ]
  },
  {
   "cell_type": "code",
   "execution_count": 90,
   "id": "df3d8a39-0b5d-40f9-81ef-30e255d0688f",
   "metadata": {},
   "outputs": [
    {
     "name": "stdout",
     "output_type": "stream",
     "text": [
      "1\n",
      "2\n",
      "3\n",
      "4\n",
      "6\n",
      "7\n",
      "8\n",
      "9\n",
      "10\n"
     ]
    }
   ],
   "source": [
    "# skip 5 \n",
    "\n",
    "for i in range(1,11):\n",
    "    if i == 5:\n",
    "        continue\n",
    "    print(i)"
   ]
  },
  {
   "cell_type": "markdown",
   "id": "3bae8347-517a-458f-bab5-33278ffdadb9",
   "metadata": {},
   "source": [
    "### Interpreter: \n",
    "#### It's a program that converts human-readable code to instructions.\n",
    "#### An interpreter is a program that reads and executes code line by line, converting high-level code (like Python) into machine-readable instructions at runtime."
   ]
  },
  {
   "cell_type": "code",
   "execution_count": null,
   "id": "2df60e97-abae-4bcb-9831-fbea9c34a1c7",
   "metadata": {},
   "outputs": [],
   "source": []
  }
 ],
 "metadata": {
  "kernelspec": {
   "display_name": "Python 3 (ipykernel)",
   "language": "python",
   "name": "python3"
  },
  "language_info": {
   "codemirror_mode": {
    "name": "ipython",
    "version": 3
   },
   "file_extension": ".py",
   "mimetype": "text/x-python",
   "name": "python",
   "nbconvert_exporter": "python",
   "pygments_lexer": "ipython3",
   "version": "3.12.7"
  }
 },
 "nbformat": 4,
 "nbformat_minor": 5
}
